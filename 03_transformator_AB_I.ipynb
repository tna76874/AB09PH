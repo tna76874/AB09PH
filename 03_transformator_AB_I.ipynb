{
 "cells": [
  {
   "cell_type": "code",
   "execution_count": 1,
   "metadata": {},
   "outputs": [],
   "source": [
    "from __future__ import division\n",
    "from IPython.display import display\n",
    "from IPython.display import Markdown as md\n",
    "from IPython.core.display import SVG\n",
    "from sympy.interactive import printing\n",
    "printing.init_printing(use_latex='mathjax')\n",
    "\n",
    "import pandas as pd\n",
    "import numpy as np\n",
    "\n",
    "import sympy as sp\n",
    "sf = sp.sympify\n",
    "\n",
    "import scipy.constants as cm\n",
    "import pint as pn\n",
    "ureg = pn.UnitRegistry(system='mks')\n",
    "ureg.default_format = '~P'\n",
    "pe = ureg.parse_expression\n",
    "\n",
    "## Konstanten und Einheiten\n",
    "CM = pd.DataFrame(cm.physical_constants).T\n",
    "CM['c'] = CM.index\n",
    "CM = CM.reset_index(drop=True)\n",
    "def getpc(quant):\n",
    "    DF = CM\n",
    "    DF = DF[DF['c']==quant].reset_index(drop=True)\n",
    "    quan = DF[0][0] * ureg(DF[1][0])\n",
    "    return quan"
   ]
  },
  {
   "cell_type": "code",
   "execution_count": 2,
   "metadata": {},
   "outputs": [],
   "source": [
    "g = getpc('standard acceleration of gravity')\n",
    "m_e = getpc('electron mass')\n",
    "e = getpc('elementary charge')\n",
    "c = getpc('speed of light in vacuum')\n",
    "e0 = getpc('electric constant')\n",
    "mu0 = getpc('mag. constant')"
   ]
  },
  {
   "cell_type": "code",
   "execution_count": 3,
   "metadata": {},
   "outputs": [
    {
     "data": {
      "text/html": [
       "<script>\n",
       "code_show=true; \n",
       "function code_toggle() {\n",
       " if (code_show){\n",
       " $('div.input').hide();\n",
       " } else {\n",
       " $('div.input').show();\n",
       " }\n",
       " code_show = !code_show\n",
       "} \n",
       "$( document ).ready(code_toggle);\n",
       "</script>\n",
       "<form action=\"javascript:code_toggle()\"><input type=\"submit\" value=\"Quellcode an/aus schalten.\"></form>"
      ],
      "text/plain": [
       "<IPython.core.display.HTML object>"
      ]
     },
     "execution_count": 3,
     "metadata": {},
     "output_type": "execute_result"
    }
   ],
   "source": [
    "from IPython.display import HTML\n",
    "\n",
    "HTML('''<script>\n",
    "code_show=true; \n",
    "function code_toggle() {\n",
    " if (code_show){\n",
    " $('div.input').hide();\n",
    " } else {\n",
    " $('div.input').show();\n",
    " }\n",
    " code_show = !code_show\n",
    "} \n",
    "$( document ).ready(code_toggle);\n",
    "</script>\n",
    "<form action=\"javascript:code_toggle()\"><input type=\"submit\" value=\"Quellcode an/aus schalten.\"></form>''')"
   ]
  },
  {
   "cell_type": "markdown",
   "metadata": {},
   "source": [
    "# AB Transformator I\n",
    "## Aufgabe 1\n",
    "* **Eisenverluste** $P_\\mathrm{Fe}$\n",
    "    * Magnetisierungsverluste: Der Eisenkern wird durch die Wechselspannung permanent umgepolt. Die Neuausrichtung der Weißschen Bezirke (Elementarmagnete) benötigt Energie, die nicht mehr zur Transformation zur Sekundärspule bereit steht.\n",
    "    * Da sich das Magnetfeld in dem Eisenkern dauerhaft ändert, werden in dem Kern (nutzlose) Kreisströme induziert. Die Leistung die für diese Kreisströme benötigt wird, kann nicht mehr zu der Sekundärspule transformiert werden.\n",
    "* **Kupferverluste** $P_\\mathrm{Cu}$\n",
    "    * Auf der Primär und der Sekundärseite fließen Ströme durch die Spulen. Da die Kupferspulen einen Widerstand haben, wird dafür Energie benötigt.\n",
    "\n",
    "Je kleiner die Verluste bei einem Transformator sind, desto größer ist der Wirkungsgrad $\\eta$ der Energieübertragung zwischen der Primär- und Sekundärspule. Der Wirkungsgrad ist nicht bei jeder Betriebsspannung/strom des Transformators gleicht. Eine allgemeine Daumenregel ist, dass der Wirkungsgrad bei einem Transformator am größten ist, wenn die belastungsunabhängige Verlustleistung (Eisenverluste) genauso groß sind wie die belastungsabhängige Verlustleistung (Kupferverluste).\n",
    "$$\\eta = \\frac{P_2}{P_1} = \\frac{P_2}{P_2 + \\underbrace{P_\\mathrm{Fe} + P_\\mathrm{Cu}}_{P_\\mathrm{Verlust}}}$$"
   ]
  },
  {
   "cell_type": "markdown",
   "metadata": {},
   "source": [
    "## Aufgabe 2\n",
    "### a)\n",
    "Die Leistung der Primärseite der Spule ist:\n",
    "$$P_1 = U_1 \\cdot I_1$$\n",
    "Da der Wirkungsgrad 100% ist, wird die komplette Leistung der Primärspule auf die Sekundärspule übertragen (In der Realität kommt dieser Fall nicht vor, da die Übertragung nie verlustfrei ist).\n",
    "$$P_2 = \\eta \\cdot P_1$$"
   ]
  },
  {
   "cell_type": "code",
   "execution_count": 4,
   "metadata": {},
   "outputs": [
    {
     "data": {
      "text/markdown": [
       "Gegeben: <br/> $\\eta = 100$%; $U_1 = 100 V$; $I_1 = 2 A$<br/>Lösung:<br/>$P_1 = 200.0 W$; $P_2 = 200.0 W$"
      ],
      "text/plain": [
       "<IPython.core.display.Markdown object>"
      ]
     },
     "execution_count": 4,
     "metadata": {},
     "output_type": "execute_result"
    }
   ],
   "source": [
    "eta = 1\n",
    "U_1 = pe('100V')\n",
    "I_1 = pe('2A')\n",
    "P_1 = (U_1*I_1).to('W')\n",
    "P_2 = eta * P_1\n",
    "\n",
    "md(\"Gegeben: <br/>\" \n",
    "+ \" $\\eta = {:}$%\".format(eta*100) \n",
    "+ \"; $U_1 = {:~P}$\".format(U_1)\n",
    "+ \"; $I_1 = {:~P}$\".format(I_1)\n",
    "+ \"<br/>Lösung:<br/>\" \n",
    "+ \"$P_1 = {:~P}$\".format(P_1)\n",
    "+ \"; $P_2 = {:~P}$\".format(P_2))"
   ]
  },
  {
   "cell_type": "markdown",
   "metadata": {},
   "source": [
    "### b)\n",
    "$$\\begin{eqnarray}\n",
    "P_2 &=& \\eta \\cdot P_1 \\\\\n",
    "U_2 \\cdot I_2 &=& \\eta \\cdot U_1 \\cdot I_1 \\\\\n",
    "\\frac{I_2}{I_1 \\eta} &=& \\frac{U_1}{U_2} = \\frac{n_1}{n_2}\n",
    "\\end{eqnarray}$$\n",
    "Daraus folgt, dass die Stromstärke in dem Sekundärstromkreis $I_2 = \\frac{n_1}{n_2} I_1 \\eta$ ist, und die Spannung $U_2 = \\frac{n_2}{n_1} U_1$."
   ]
  },
  {
   "cell_type": "code",
   "execution_count": 5,
   "metadata": {},
   "outputs": [
    {
     "data": {
      "text/markdown": [
       "Gegeben: <br/> $n_1 = 200$; $n_2 = 600$<br/>Lösung:<br/>$I_2 = 0.67 A$; $U_2 = 300.0 V$"
      ],
      "text/plain": [
       "<IPython.core.display.Markdown object>"
      ]
     },
     "execution_count": 5,
     "metadata": {},
     "output_type": "execute_result"
    }
   ],
   "source": [
    "n_1 = 200\n",
    "n_2 = 600\n",
    "\n",
    "I_2 = (n_1 / n_2 * I_1 * eta).to('A')\n",
    "U_2 = (n_2 / n_1 * U_1).to('V')\n",
    "\n",
    "\n",
    "md(\"Gegeben: <br/>\" \n",
    "+ \" $n_1 = {:}$\".format(n_1) \n",
    "+ \"; $n_2 = {:}$\".format(n_2)\n",
    "+ \"<br/>Lösung:<br/>\" \n",
    "+ \"$I_2 = {:.2~P}$\".format(I_2)\n",
    "+ \"; $U_2 = {:~P}$\".format(U_2))"
   ]
  },
  {
   "cell_type": "markdown",
   "metadata": {},
   "source": [
    "## Der Rest\n",
    "<img style=\"float: middle;\" height=\"200\" width=\"200\" src=\"material/comingsoon.jpg\">"
   ]
  },
  {
   "cell_type": "code",
   "execution_count": null,
   "metadata": {},
   "outputs": [],
   "source": []
  }
 ],
 "metadata": {
  "kernelspec": {
   "display_name": "Python 3",
   "language": "python",
   "name": "python3"
  },
  "language_info": {
   "codemirror_mode": {
    "name": "ipython",
    "version": 3
   },
   "file_extension": ".py",
   "mimetype": "text/x-python",
   "name": "python",
   "nbconvert_exporter": "python",
   "pygments_lexer": "ipython3",
   "version": "3.6.5"
  }
 },
 "nbformat": 4,
 "nbformat_minor": 2
}
