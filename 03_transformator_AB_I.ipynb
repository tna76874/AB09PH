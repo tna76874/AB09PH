{
 "cells": [
  {
   "cell_type": "code",
   "execution_count": 1,
   "metadata": {},
   "outputs": [],
   "source": [
    "from __future__ import division\n",
    "from IPython.display import display\n",
    "from IPython.display import Markdown as md\n",
    "from IPython.core.display import SVG\n",
    "from sympy.interactive import printing\n",
    "printing.init_printing(use_latex='mathjax')\n",
    "\n",
    "import pandas as pd\n",
    "import numpy as np\n",
    "\n",
    "import sympy as sp\n",
    "sf = sp.sympify\n",
    "\n",
    "import scipy.constants as cm\n",
    "import pint as pn\n",
    "ureg = pn.UnitRegistry(system='mks')\n",
    "ureg.default_format = '~P'\n",
    "pe = ureg.parse_expression\n",
    "\n",
    "## Konstanten und Einheiten\n",
    "CM = pd.DataFrame(cm.physical_constants).T\n",
    "CM['c'] = CM.index\n",
    "CM = CM.reset_index(drop=True)\n",
    "def getpc(quant):\n",
    "    DF = CM\n",
    "    DF = DF[DF['c']==quant].reset_index(drop=True)\n",
    "    quan = DF[0][0] * ureg(DF[1][0])\n",
    "    return quan"
   ]
  },
  {
   "cell_type": "code",
   "execution_count": 2,
   "metadata": {},
   "outputs": [],
   "source": [
    "g = getpc('standard acceleration of gravity')\n",
    "m_e = getpc('electron mass')\n",
    "e = getpc('elementary charge')\n",
    "c = getpc('speed of light in vacuum')\n",
    "e0 = getpc('electric constant')\n",
    "mu0 = getpc('mag. constant')"
   ]
  },
  {
   "cell_type": "code",
   "execution_count": 3,
   "metadata": {},
   "outputs": [
    {
     "data": {
      "text/html": [
       "<script>\n",
       "code_show=true; \n",
       "function code_toggle() {\n",
       " if (code_show){\n",
       " $('div.input').hide();\n",
       " } else {\n",
       " $('div.input').show();\n",
       " }\n",
       " code_show = !code_show\n",
       "} \n",
       "$( document ).ready(code_toggle);\n",
       "</script>\n",
       "<form action=\"javascript:code_toggle()\"><input type=\"submit\" value=\"Quellcode an/aus schalten.\"></form>"
      ],
      "text/plain": [
       "<IPython.core.display.HTML object>"
      ]
     },
     "execution_count": 3,
     "metadata": {},
     "output_type": "execute_result"
    }
   ],
   "source": [
    "from IPython.display import HTML\n",
    "\n",
    "HTML('''<script>\n",
    "code_show=true; \n",
    "function code_toggle() {\n",
    " if (code_show){\n",
    " $('div.input').hide();\n",
    " } else {\n",
    " $('div.input').show();\n",
    " }\n",
    " code_show = !code_show\n",
    "} \n",
    "$( document ).ready(code_toggle);\n",
    "</script>\n",
    "<form action=\"javascript:code_toggle()\"><input type=\"submit\" value=\"Quellcode an/aus schalten.\"></form>''')"
   ]
  },
  {
   "cell_type": "markdown",
   "metadata": {},
   "source": [
    "# AB Transformator I\n",
    "## Aufgabe 1\n",
    "* **Eisenverluste** $P_\\mathrm{Fe}$ (belastungsunabhängig)\n",
    "    * Magnetisierungsverluste: Der Eisenkern wird durch die Wechselspannung permanent umgepolt. Die Neuausrichtung der Weißschen Bezirke (Elementarmagnete) benötigt Energie, die nicht mehr zur Transformation zur Sekundärspule bereit steht.\n",
    "    * Da sich das Magnetfeld in dem Eisenkern dauerhaft ändert, werden in dem Kern (nutzlose) Kreisströme induziert. Die Leistung die für diese Kreisströme benötigt wird, kann nicht mehr zu der Sekundärspule transformiert werden.\n",
    "* **Kupferverluste** $P_\\mathrm{Cu}$ (belastungsabhängig)\n",
    "    * Auf der Primär und der Sekundärseite fließen Ströme durch die Spulen. Da die Kupferspulen einen Widerstand haben, wird dafür Energie benötigt.\n",
    "\n",
    "Je kleiner die Verluste bei einem Transformator sind, desto größer ist der Wirkungsgrad $\\eta$ der Energieübertragung zwischen der Primär- und Sekundärspule. Der Wirkungsgrad ist nicht bei jeder Betriebsspannung/strom des Transformators gleicht. Eine allgemeine Daumenregel ist, dass der Wirkungsgrad bei einem Transformator am größten ist, wenn die belastungsunabhängige Verlustleistung (Eisenverluste) genauso groß sind wie die belastungsabhängige Verlustleistung (Kupferverluste).\n",
    "$$\\eta = \\frac{P_2}{P_1} = \\frac{P_2}{P_2 + \\underbrace{P_\\mathrm{Fe} + P_\\mathrm{Cu}}_{P_\\mathrm{Verlust}}}$$"
   ]
  },
  {
   "cell_type": "markdown",
   "metadata": {},
   "source": [
    "## Aufgabe 2\n",
    "### a)\n",
    "Die Leistung der Primärseite der Spule ist:\n",
    "$$P_1 = U_1 \\cdot I_1$$\n",
    "Da der Wirkungsgrad 100% ist, wird die komplette Leistung der Primärspule auf die Sekundärspule übertragen (In der Realität kommt dieser Fall nicht vor, da die Übertragung nie verlustfrei ist).\n",
    "$$P_2 = \\eta \\cdot P_1$$"
   ]
  },
  {
   "cell_type": "code",
   "execution_count": 4,
   "metadata": {},
   "outputs": [
    {
     "data": {
      "text/markdown": [
       "Gegeben: <br/> $\\eta = 100$%; $U_1 = 100 V$; $I_1 = 2 A$<br/>Lösung:<br/>$P_1 = 200.0 W$; $P_2 = 200.0 W$"
      ],
      "text/plain": [
       "<IPython.core.display.Markdown object>"
      ]
     },
     "execution_count": 4,
     "metadata": {},
     "output_type": "execute_result"
    }
   ],
   "source": [
    "eta = 1\n",
    "U_1 = pe('100V')\n",
    "I_1 = pe('2A')\n",
    "P_1 = (U_1*I_1).to('W')\n",
    "P_2 = eta * P_1\n",
    "\n",
    "md(\"Gegeben: <br/>\" \n",
    "+ \" $\\eta = {:}$%\".format(eta*100) \n",
    "+ \"; $U_1 = {:~P}$\".format(U_1)\n",
    "+ \"; $I_1 = {:~P}$\".format(I_1)\n",
    "+ \"<br/>Lösung:<br/>\" \n",
    "+ \"$P_1 = {:~P}$\".format(P_1)\n",
    "+ \"; $P_2 = {:~P}$\".format(P_2))"
   ]
  },
  {
   "cell_type": "markdown",
   "metadata": {},
   "source": [
    "### b)\n",
    "$$\\begin{eqnarray}\n",
    "P_2 &=& \\eta \\cdot P_1 \\\\\n",
    "U_2 \\cdot I_2 &=& \\eta \\cdot U_1 \\cdot I_1 \\\\\n",
    "\\frac{I_2}{I_1 \\eta} &=& \\frac{U_1}{U_2} = \\frac{n_1}{n_2}\n",
    "\\end{eqnarray}$$\n",
    "Daraus folgt, dass die Stromstärke in dem Sekundärstromkreis $I_2 = \\frac{n_1}{n_2} I_1 \\eta$ ist, und die Spannung $U_2 = \\frac{n_2}{n_1} U_1$."
   ]
  },
  {
   "cell_type": "code",
   "execution_count": 5,
   "metadata": {},
   "outputs": [
    {
     "data": {
      "text/markdown": [
       "Gegeben: <br/> $n_1 = 200$; $n_2 = 600$<br/>Lösung:<br/>$I_2 = 0.67 A$; $U_2 = 300.0 V$"
      ],
      "text/plain": [
       "<IPython.core.display.Markdown object>"
      ]
     },
     "execution_count": 5,
     "metadata": {},
     "output_type": "execute_result"
    }
   ],
   "source": [
    "n_1 = 200\n",
    "n_2 = 600\n",
    "\n",
    "I_2 = (n_1 / n_2 * I_1 * eta).to('A')\n",
    "U_2 = (n_2 / n_1 * U_1).to('V')\n",
    "\n",
    "\n",
    "md(\"Gegeben: <br/>\" \n",
    "+ \" $n_1 = {:}$\".format(n_1) \n",
    "+ \"; $n_2 = {:}$\".format(n_2)\n",
    "+ \"<br/>Lösung:<br/>\" \n",
    "+ \"$I_2 = {:.2~P}$\".format(I_2)\n",
    "+ \"; $U_2 = {:~P}$\".format(U_2))"
   ]
  },
  {
   "cell_type": "markdown",
   "metadata": {},
   "source": [
    "## Aufgabe 3\n",
    "Bei einem umbelasteten Transformator fließt durch die Sekundärspule keine Strom. Wenn $I_2=0$ ist, dann ist auch $P_2 = U_2 \\cdot 0 = 0$ (unbelastet). In dem Schaltkreis ist der Schalter S offen und das Strommessgerät zeigt $I_2=0$ an. Im Sekundärstromkreis liegt eine Spannung $U_2$ an, die von dem Messgerät gemessen wird.\n",
    "\n",
    "Im Primärstromkreis wird ebenfalls eine Spannung $U_1$ gemessen. Da die Primärspule jedoch verantworlich ist für das ummagnetisieren des Eisenkerns fließt durch das Messgerät $I_1$ ein gerade so großer Strom, wie die belastungsunabhängige Verlustleistung $P_\\mathrm{Fe} = I_1 \\cdot U_1$ \"fordert\".\n"
   ]
  },
  {
   "cell_type": "markdown",
   "metadata": {},
   "source": [
    "## Aufgabe 4\n",
    "### a)\n",
    "\n",
    "In dem Schaltplan ist der Schalter S geschlossen und es fließt Strom durch die Sekundärspule. Alle Messgeräte zeigen Werte an."
   ]
  },
  {
   "cell_type": "markdown",
   "metadata": {},
   "source": [
    "### b)\n",
    "In dem Versuch wurde als \"Last\" eine Parallelschaltung aus drei identischen Widerstanden von $1 \\mathrm{k}\\Omega$ verwendet. Mit jedem dazugeschalteten Widerstand wird der Gesamtwiderstand $R_2$ kleiner. Alle drei Widerstände zusammen haben einen Widerstand von $\\frac{1}{3} \\mathrm{k}\\Omega$."
   ]
  },
  {
   "cell_type": "markdown",
   "metadata": {},
   "source": [
    "### c)\n",
    "Zuerst wurden zwei identische Spulen mit $n_1=600$ und $n_2=600$ verwendet. Mit jedem dazugeschalteten Widerstand wird der Widerstand kleiner. Von $\\frac{n_1}{n_2}=\\frac{U_1}{U_2}$ weiß man, dass an beiden Spulen die gleiche Spannung anliegt. Wenn man für den Wirkungsgrad das Verhältnis der Leistungen bildet, kürzt sich die Spannung:\n",
    "$$\\eta = \\frac{P_2}{P_1} = \\frac{I_2 \\cdot U_2}{I_1 \\cdot U_1} = \\frac{I_2}{I_1}$$"
   ]
  },
  {
   "cell_type": "code",
   "execution_count": 6,
   "metadata": {},
   "outputs": [
    {
     "data": {
      "text/markdown": [
       "Ein Schalter: $\\eta = 13.0$% <br/>Zwei Schalter: $\\eta = 21.8$% <br/>Drei Schalter: $\\eta = 29.2$% <br/>"
      ],
      "text/plain": [
       "<IPython.core.display.Markdown object>"
      ]
     },
     "execution_count": 6,
     "metadata": {},
     "output_type": "execute_result"
    }
   ],
   "source": [
    "md(\"Ein Schalter: $\\eta = {:.3~P}$% <br/>\".format(pe('1.3mA')/pe('10mA')*100) \n",
    "+  \"Zwei Schalter: $\\eta = {:.3~P}$% <br/>\".format(pe('2.4mA')/pe('11mA')*100)\n",
    "+  \"Drei Schalter: $\\eta = {:.3~P}$% <br/>\".format(pe('3.5mA')/pe('12mA')*100)\n",
    ")"
   ]
  },
  {
   "cell_type": "markdown",
   "metadata": {},
   "source": [
    "Der Wirkungsgrad ist zuerst sehr gering. Dies liegt daran, dass ein belastungsunabhängiger Teil der Leistung in der Primärspule dafür benötigt wird, um die Eisenverluste auszugleichen. Es bleibt also nicht mehr viel Leistung \"übrig\", die an die Sekundärspule übertragen werden kann. Mit einem kleineren Widerstand auf der Sekundärseite \"fordert\" diese von der Primärseite mehr Strom. Die Eisenverluste bleiben in etwa gleich, weswegen der Wirkungsgrad mit einem kleineren Widerstand etwas größer wird.\n",
    "\n",
    "Als letztes wird der Transformator mit einer Sekundärspule $n_2 = 300$ umgebaut. Von $\\frac{n_1}{n_2}=\\frac{U_1}{U_2}$ weiß man, dass an der Sekundärspule eine halb so große Spannung anliegt wie an der Primärspule. Für den Wirkungsgrad folgt:\n",
    "$$\\eta = \\frac{P_2}{P_1} = \\frac{I_2 \\cdot U_2}{I_1 \\cdot 2 U_2} = \\frac{I_2}{2 \\cdot I_1}$$"
   ]
  },
  {
   "cell_type": "code",
   "execution_count": 7,
   "metadata": {},
   "outputs": [
    {
     "data": {
      "text/markdown": [
       "$\\eta = 3.0$% <br/>"
      ],
      "text/plain": [
       "<IPython.core.display.Markdown object>"
      ]
     },
     "execution_count": 7,
     "metadata": {},
     "output_type": "execute_result"
    }
   ],
   "source": [
    "md(\"$\\eta = {:.3~P}$% <br/>\".format(pe('0.6mA')/(2*pe('10mA'))*100))"
   ]
  },
  {
   "cell_type": "markdown",
   "metadata": {},
   "source": [
    "### d)\n",
    "Bei Teilaufgabe c) sieht man, dass es keine gute Idee war, die Spannung auf der Sekundärseite abzusenken. Die Leistung die übertragen wird ist das Produkt aus Strom und Spannung. Wenn sich die Spannung an der Sekundärspule halbiert, dann muss sich folglich die Stromstärke durch die Sekundärspule verdoppeln, um die gleiche Leistung zu übertragen. Wenn durch die Spulen ein größerer Strom fließt, dann sind die belastungsabhängigen Kupferverluste größer und der Wirkungsgrad wird kleiner.\n",
    "\n",
    "** Fazit: ** Der Wirkungsgrad wird besser, je größer die Spannung an der Sekundärseite ist. Siehe Übertragunsverlust von Hochspannungsleitungen in Aufgabe 5. "
   ]
  },
  {
   "cell_type": "markdown",
   "metadata": {},
   "source": [
    "## Aufgabe 5\n",
    "In einer Reihenschaltung fällt über jedem Widerstand eine Spannung ab. Belastet man einen Transformator (durch die Sekundärseite fliesst ein Strom), dann setzt sich die Sekundärspannung $U_2$ aus zwei Teilen zusammen:\n",
    "* $U_\\mathrm{Leitung}$: Fliesst durch die Drähte einer Spule ein Strom, dann fällt über den Draht ein Widerstand ab (siehe spezifischer Widerstand).\n",
    "* $U_\\mathrm{Last}$: Diese Spannung fällt über den Verbraucher ab, den man an die Sekundärspule angeschlossen hat.\n",
    "<img style=\"float: middle;\" height=\"400\" width=\"400\" src=\"material/03_transformator_AB_I_F1.svg\">\n",
    "\n",
    "Bei der Übertragung von Strom durch Übertragungsleitungen von dem Kraftwerk zu dem Haushalt ist das Kabel durch das der Strom in der Sekundärspule ließt logischerweise seeeeeehr lang. Dadurch kann man die Kupferverluste durch die Übertragungsleitungen nur gering halten, wenn die Verlustleistung durch die Leitung möglichst klein ist.\n",
    "<img style=\"float: middle;\" height=\"800\" width=\"800\" src=\"material/03_transformator_AB_I_F2.svg\">\n",
    "Zuerst berechnet man die Stromstärke $I_2$ die auf der Sekundärseite fliesst. Danach bestimmt man die Spannung $U_\\mathrm{Leitung}$, die über die Leitung abfällt.\n",
    "$$\\begin{eqnarray}\n",
    "P_2 &=& U_2 \\cdot I_2 \\\\\n",
    "I_2 &=& \\frac{P_2}{U_2} \\\\\n",
    "U_\\mathrm{Leitung} &=& R_\\mathrm{Leitung} \\cdot I_2 \\\\\n",
    "P_\\mathrm{Leitung} &=& U_\\mathrm{Leitung} \\cdot I_2 = R_\\mathrm{Leitung} \\cdot I_2^2 \\\\\n",
    "&=& R_\\mathrm{Leitung} \\cdot \\left ( \\frac{P_2}{U_2} \\right )^2\n",
    "\\end{eqnarray}$$\n",
    "\n",
    "### a) "
   ]
  },
  {
   "cell_type": "code",
   "execution_count": 8,
   "metadata": {},
   "outputs": [
    {
     "data": {
      "text/markdown": [
       "Gegeben: <br/> $U_2 = 240 V$; $P_2 = 120 kW$; $R_{Leitung} = 0.4 Ω$<br/>Lösung:<br/>$I_2 = 500.0 A$; $U_{Leitung} = 200.0 V$; $P_{Leitung} = 100.0 kW$"
      ],
      "text/plain": [
       "<IPython.core.display.Markdown object>"
      ]
     },
     "execution_count": 8,
     "metadata": {},
     "output_type": "execute_result"
    }
   ],
   "source": [
    "U_2 = pe('240V')\n",
    "P_2 = pe('120kW')\n",
    "R_leitung = pe('0.4ohm')\n",
    "\n",
    "\n",
    "I_2 = (P_2/U_2).to('A')\n",
    "U_leitung = (R_leitung*I_2).to('V')\n",
    "P_leitung = (R_leitung * I_2**2).to('kW')\n",
    "\n",
    "md(\"Gegeben: <br/>\" \n",
    "+ \" $U_2 = {:}$\".format(U_2) \n",
    "+ \"; $P_2 = {:}$\".format(P_2)\n",
    "+ \"; $R_{{Leitung}} = {:}$\".format(R_leitung)\n",
    "+ \"<br/>Lösung:<br/>\" \n",
    "+ \"$I_2 = {:}$\".format(I_2)\n",
    "+ \"; $U_{{Leitung}} = {:}$\".format(U_leitung)\n",
    "+ \"; $P_{{Leitung}} = {:}$\".format(P_leitung)\n",
    "  )"
   ]
  },
  {
   "cell_type": "markdown",
   "metadata": {},
   "source": [
    "### b)"
   ]
  },
  {
   "cell_type": "code",
   "execution_count": 9,
   "metadata": {},
   "outputs": [
    {
     "data": {
      "text/markdown": [
       "Gegeben: <br/> $U_2 = 240 kV$; $P_2 = 120 kW$; $R_{Leitung} = 0.4 Ω$<br/>Lösung:<br/>$I_2 = 0.5 A$; $U_{Leitung} = 0.2 V$; $P_{Leitung} = 0.1 W$"
      ],
      "text/plain": [
       "<IPython.core.display.Markdown object>"
      ]
     },
     "execution_count": 9,
     "metadata": {},
     "output_type": "execute_result"
    }
   ],
   "source": [
    "U_2 = pe('240kV')\n",
    "P_2 = pe('120kW')\n",
    "R_leitung = pe('0.4ohm')\n",
    "\n",
    "\n",
    "I_2 = (P_2/U_2).to('A')\n",
    "U_leitung = (R_leitung*I_2).to('V')\n",
    "P_leitung = (R_leitung * I_2**2).to('W')\n",
    "\n",
    "md(\"Gegeben: <br/>\" \n",
    "+ \" $U_2 = {:}$\".format(U_2) \n",
    "+ \"; $P_2 = {:}$\".format(P_2)\n",
    "+ \"; $R_{{Leitung}} = {:}$\".format(R_leitung)\n",
    "+ \"<br/>Lösung:<br/>\" \n",
    "+ \"$I_2 = {:}$\".format(I_2)\n",
    "+ \"; $U_{{Leitung}} = {:}$\".format(U_leitung)\n",
    "+ \"; $P_{{Leitung}} = {:}$\".format(P_leitung)\n",
    "  )"
   ]
  },
  {
   "cell_type": "markdown",
   "metadata": {},
   "source": [
    "## Der Rest\n",
    "<img style=\"float: middle;\" height=\"200\" width=\"200\" src=\"material/comingsoon.jpg\">"
   ]
  },
  {
   "cell_type": "code",
   "execution_count": null,
   "metadata": {},
   "outputs": [],
   "source": []
  }
 ],
 "metadata": {
  "kernelspec": {
   "display_name": "Python 3",
   "language": "python",
   "name": "python3"
  },
  "language_info": {
   "codemirror_mode": {
    "name": "ipython",
    "version": 3
   },
   "file_extension": ".py",
   "mimetype": "text/x-python",
   "name": "python",
   "nbconvert_exporter": "python",
   "pygments_lexer": "ipython3",
   "version": "3.6.5"
  }
 },
 "nbformat": 4,
 "nbformat_minor": 2
}
