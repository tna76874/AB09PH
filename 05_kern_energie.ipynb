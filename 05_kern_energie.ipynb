{
 "cells": [
  {
   "cell_type": "code",
   "execution_count": 1,
   "metadata": {},
   "outputs": [],
   "source": [
    "from __future__ import division\n",
    "from IPython.display import display\n",
    "from IPython.display import Markdown as md\n",
    "from IPython.core.display import SVG\n",
    "from sympy.interactive import printing\n",
    "import matplotlib.pyplot as plt\n",
    "printing.init_printing(use_latex='mathjax')\n",
    "\n",
    "import warnings\n",
    "warnings.filterwarnings('ignore')\n",
    "\n",
    "import pandas as pd\n",
    "import numpy as np\n",
    "\n",
    "import sympy as sp\n",
    "sf = sp.sympify\n",
    "\n",
    "import scipy.constants as cm\n",
    "import pint as pn\n",
    "ureg = pn.UnitRegistry(system='mks')\n",
    "ureg.default_format = '~P'\n",
    "pe = ureg.parse_expression\n",
    "\n",
    "## Konstanten und Einheiten\n",
    "CM = pd.DataFrame(cm.physical_constants).T\n",
    "CM['c'] = CM.index\n",
    "CM = CM.reset_index(drop=True)\n",
    "def getpc(quant):\n",
    "    DF = CM\n",
    "    DF = DF[DF['c']==quant].reset_index(drop=True)\n",
    "    quan = DF[0][0] * ureg(DF[1][0])\n",
    "    return quan"
   ]
  },
  {
   "cell_type": "code",
   "execution_count": 2,
   "metadata": {},
   "outputs": [],
   "source": [
    "g = getpc('standard acceleration of gravity')\n",
    "m_e = getpc('electron mass')\n",
    "e = getpc('elementary charge')\n",
    "c = getpc('speed of light in vacuum')\n",
    "e0 = getpc('electric constant')\n",
    "mu0 = getpc('mag. constant')"
   ]
  },
  {
   "cell_type": "code",
   "execution_count": 3,
   "metadata": {},
   "outputs": [
    {
     "data": {
      "text/html": [
       "<script>\n",
       "code_show=true; \n",
       "function code_toggle() {\n",
       " if (code_show){\n",
       " $('div.input').hide();\n",
       " } else {\n",
       " $('div.input').show();\n",
       " }\n",
       " code_show = !code_show\n",
       "} \n",
       "$( document ).ready(code_toggle);\n",
       "</script>\n",
       "<form action=\"javascript:code_toggle()\"><input type=\"submit\" value=\"Quellcode an/aus schalten.\"></form>"
      ],
      "text/plain": [
       "<IPython.core.display.HTML object>"
      ]
     },
     "execution_count": 3,
     "metadata": {},
     "output_type": "execute_result"
    }
   ],
   "source": [
    "from IPython.display import HTML\n",
    "\n",
    "HTML('''<script>\n",
    "code_show=true; \n",
    "function code_toggle() {\n",
    " if (code_show){\n",
    " $('div.input').hide();\n",
    " } else {\n",
    " $('div.input').show();\n",
    " }\n",
    " code_show = !code_show\n",
    "} \n",
    "$( document ).ready(code_toggle);\n",
    "</script>\n",
    "<form action=\"javascript:code_toggle()\"><input type=\"submit\" value=\"Quellcode an/aus schalten.\"></form>''')"
   ]
  },
  {
   "cell_type": "markdown",
   "metadata": {},
   "source": [
    "# Kernzerfälle und Energie\n"
   ]
  },
  {
   "cell_type": "markdown",
   "metadata": {},
   "source": [
    "## Aufgabe 1\n",
    "siehe Unterricht. Es wurde ausserdem im Unterricht schon ein Druckfehler korrigiert: $^{4}_{2}\\mathrm{He}$ und nicht $^{4}_{2}\\mathrm{H}$"
   ]
  },
  {
   "cell_type": "markdown",
   "metadata": {},
   "source": [
    "# Aufgabe 2\n",
    "Hinweis: Bei dieser Aufgabe ist natürlich das Element Thorium-228  $^{228}_{90}\\mathrm{Th}$ gemeint und nicht $^{228}_{90}\\mathrm{Ra}$.\n",
    "\n",
    "Gegeben ist die Masse $m_\\mathrm{U-232}$ von U-232 und die Masse der Zerfallsprodukte $m_\\mathrm{Th-228}$ und $m_\\mathrm{He-4}$. Durch den Spaltprozess wird Energie freigesetzt, welche proportional zu der \"abgenommenen\" Masse ist. Also muss man berechnen wie viel die Masse weniger geworden ist und dies mit der Formel von Einstein in die freigewordene Energie umrechnen:\n",
    "\n",
    "$$\\begin{eqnarray}\n",
    "\\Delta m &=& m_\\mathrm{U-232} - m_\\mathrm{Th-228} - m_\\mathrm{He-4} \\\\\n",
    "E &=& \\Delta m \\cdot c^2\n",
    "\\end{eqnarray}$$"
   ]
  },
  {
   "cell_type": "code",
   "execution_count": 4,
   "metadata": {},
   "outputs": [
    {
     "data": {
      "text/markdown": [
       "Gegeben: <br/> $m_\\mathrm{U-232} = 232.037146 u$; $m_\\mathrm{Th-228} = 228.028731 u$; $m_\\mathrm{He-4} = 4.002603 u$; $c = 299792458.0 m/s$<br/>Lösung:<br/>$\\Delta m = 0.005812 u= 9.65e-30 kg$; $E = 8.67e-13 J$"
      ],
      "text/plain": [
       "<IPython.core.display.Markdown object>"
      ]
     },
     "execution_count": 4,
     "metadata": {},
     "output_type": "execute_result"
    }
   ],
   "source": [
    "m_1 = pe('232.037146u')\n",
    "m_2 = pe('228.028731u')\n",
    "m_3 = pe('4.002603u')\n",
    "\n",
    "dm = m_1 - (m_2 + m_3)\n",
    "\n",
    "E = (dm*c**2).to('J')\n",
    "\n",
    "md(\"Gegeben: <br/>\" \n",
    "+ \" $m_\\\\mathrm{{U-232}} = {:~P}$\".format(m_1) \n",
    "+ \"; $m_\\\\mathrm{{Th-228}} = {:~P}$\".format(m_2) \n",
    "+ \"; $m_\\\\mathrm{{He-4}} = {:~P}$\".format(m_3)\n",
    "+ \"; $c = {:~P}$\".format(c)\n",
    "+ \"<br/>Lösung:<br/>\" \n",
    "+ \"$\\\\Delta m = {:.5~P}= {:.3~P}$\".format(dm,dm.to('kg'))\n",
    "+ \"; $E = {:.3~P}$\".format(E))"
   ]
  },
  {
   "cell_type": "markdown",
   "metadata": {},
   "source": [
    "Ergänzung: Bei der Fragestellung \"pro Nukleon\" wird die freigewordene Energie mit der Größe der beteiligten Elemente verglichen. Hier wäre das die berechnete Energie geteilt durch 238 Nukleonen. Da wir diese Fragestellung explizit nicht im Unterricht behandelt haben ist, ist sie als schwere Transferfrage einzuordnen. "
   ]
  },
  {
   "cell_type": "markdown",
   "metadata": {},
   "source": [
    "## Aufgaben 3 - 4\n",
    "eigene Lösungen"
   ]
  },
  {
   "cell_type": "code",
   "execution_count": null,
   "metadata": {},
   "outputs": [],
   "source": []
  }
 ],
 "metadata": {
  "kernelspec": {
   "display_name": "Python 3",
   "language": "python",
   "name": "python3"
  },
  "language_info": {
   "codemirror_mode": {
    "name": "ipython",
    "version": 3
   },
   "file_extension": ".py",
   "mimetype": "text/x-python",
   "name": "python",
   "nbconvert_exporter": "python",
   "pygments_lexer": "ipython3",
   "version": "3.7.3"
  }
 },
 "nbformat": 4,
 "nbformat_minor": 2
}
